{
 "cells": [
  {
   "cell_type": "code",
   "execution_count": 1,
   "metadata": {},
   "outputs": [],
   "source": [
    "import cv2\n",
    "import tensorflow as tf"
   ]
  },
  {
   "cell_type": "code",
   "execution_count": 3,
   "metadata": {},
   "outputs": [],
   "source": [
    "#CATEGORIES = [\"Inductance\", \"Diode\"]\n",
    "\n",
    "def prepare(filepath):\n",
    "    IMG_SIZE = 227\n",
    "    img_array = cv2.imread(filepath, cv2.IMREAD_COLOR)\n",
    "    new_array = cv2.resize(img_array,(IMG_SIZE, IMG_SIZE))\n",
    "\n",
    "    return new_array.reshape(-1,IMG_SIZE,IMG_SIZE,3)\n",
    "\n",
    "\n",
    "model = tf.keras.models.load_model(r\"C:\\Users\\kouadio\\Robox\\Dataset\\Code\\Kaggle CNN\\Model8585\\new_model_CNN_kaggle_8585.h5\")\n"
   ]
  },
  {
   "cell_type": "code",
   "execution_count": 20,
   "metadata": {},
   "outputs": [
    {
     "name": "stdout",
     "output_type": "stream",
     "text": [
      "[[0. 1. 0.]]\n"
     ]
    }
   ],
   "source": [
    "prediction = model.predict([prepare(r'C:\\Users\\kouadio\\Robox\\Dataset\\Test_final\\led_table_tel.jpg')])\n",
    "print(prediction)"
   ]
  },
  {
   "cell_type": "code",
   "execution_count": null,
   "metadata": {},
   "outputs": [],
   "source": []
  },
  {
   "cell_type": "code",
   "execution_count": null,
   "metadata": {},
   "outputs": [],
   "source": []
  }
 ],
 "metadata": {
  "interpreter": {
   "hash": "5e844b3f1f0853fe962a77fb33dc9b53ff3d5c823e32779283395d138e8b72b9"
  },
  "kernelspec": {
   "display_name": "Python 3.10.4 64-bit",
   "language": "python",
   "name": "python3"
  },
  "language_info": {
   "codemirror_mode": {
    "name": "ipython",
    "version": 3
   },
   "file_extension": ".py",
   "mimetype": "text/x-python",
   "name": "python",
   "nbconvert_exporter": "python",
   "pygments_lexer": "ipython3",
   "version": "3.10.4"
  },
  "orig_nbformat": 4
 },
 "nbformat": 4,
 "nbformat_minor": 2
}
